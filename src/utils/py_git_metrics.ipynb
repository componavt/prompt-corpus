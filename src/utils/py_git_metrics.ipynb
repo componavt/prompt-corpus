{
  "nbformat": 4,
  "nbformat_minor": 0,
  "metadata": {
    "colab": {
      "provenance": [],
      "authorship_tag": "ABX9TyN4hv1dhRBKUbkobgegMEoh",
      "include_colab_link": true
    },
    "kernelspec": {
      "name": "python3",
      "display_name": "Python 3"
    },
    "language_info": {
      "name": "python"
    }
  },
  "cells": [
    {
      "cell_type": "markdown",
      "metadata": {
        "id": "view-in-github",
        "colab_type": "text"
      },
      "source": [
        "<a href=\"https://colab.research.google.com/github/componavt/prompt-corpus/blob/main/src/utils/py_git_metrics.ipynb\" target=\"_parent\"><img src=\"https://colab.research.google.com/assets/colab-badge.svg\" alt=\"Open In Colab\"/></a>"
      ]
    },
    {
      "cell_type": "markdown",
      "source": [
        "# 🔍 py_git_metrics - Python Code Metrics Analyzer for GitHub\n",
        "\n",
        "**📌 Description:**\n",
        "Clones a GitHub repository, analyzes **only the `src` folder**, and outputs key code metrics as a comma-separated string.\n",
        "Optimized for Python projects.\n",
        "\n",
        "**📊 Metrics:**\n",
        "`cyclomatic_complexity, avg_lines, duplicate_blocks, dependencies`\n",
        "\n",
        "**⚠️ Note:**\n",
        "Only the `src` folder is analyzed. Ensure it exists in the repository."
      ],
      "metadata": {
        "id": "vDIWufPcyzm4"
      }
    },
    {
      "cell_type": "code",
      "source": [
        "# Set the GitHub repository URL here\n",
        "repo_url = \"https://github.com/componavt/LLLE-R1900s\""
      ],
      "metadata": {
        "id": "QYRuOUNDzATU"
      },
      "execution_count": 1,
      "outputs": []
    },
    {
      "cell_type": "code",
      "execution_count": null,
      "metadata": {
        "id": "KYpfAAKOs-pF"
      },
      "outputs": [],
      "source": [
        "import os\n",
        "import subprocess\n",
        "\n",
        "def analyze_repo(repo_url):\n",
        "    \"\"\"\n",
        "    Clones a GitHub repository, analyzes the codebase in the 'src' folder,\n",
        "    and outputs key metrics as a comma-separated string.\n",
        "    \"\"\"\n",
        "    # Clone the repository (without \".git\" suffix)\n",
        "    repo_name = repo_url.split(\"/\")[-1]\n",
        "    subprocess.run([\"git\", \"clone\", f\"{repo_url}.git\"], check=True)\n",
        "    os.chdir(repo_name)\n",
        "\n",
        "    # Check if 'src' folder exists\n",
        "    if not os.path.exists(\"src\"):\n",
        "        raise FileNotFoundError(\"The 'src' folder was not found in the repository.\")\n",
        "\n",
        "    # Install required tools\n",
        "    subprocess.run([\"pip\", \"install\", \"radon\", \"pipdeptree\", \"--quiet\"], check=True)\n",
        "    subprocess.run([\"npm\", \"install\", \"-g\", \"jscpd\", \"--silent\"], check=True)\n",
        "\n",
        "    # Initialize metrics dictionary\n",
        "    metrics = {}\n",
        "\n",
        "    # Analyze only the 'src' folder\n",
        "    src_path = os.path.join(os.getcwd(), \"src\")\n",
        "\n",
        "    # Cyclomatic complexity (radon)\n",
        "    result = subprocess.run(\n",
        "        [\"radon\", \"cc\", src_path, \"--average\"],\n",
        "        capture_output=True,\n",
        "        text=True\n",
        "    )\n",
        "    metrics[\"cyclomatic_complexity\"] = float(result.stdout.strip().split()[-1])\n",
        "\n",
        "    # Average lines of code per file (radon)\n",
        "    result = subprocess.run(\n",
        "        [\"radon\", \"raw\", src_path],\n",
        "        capture_output=True,\n",
        "        text=True\n",
        "    )\n",
        "    loc_line = [line for line in result.stdout.split(\"\\n\") if \"LOC:\" in line]\n",
        "    if loc_line:\n",
        "        metrics[\"avg_lines\"] = int(loc_line[0].split()[1])\n",
        "    else:\n",
        "        metrics[\"avg_lines\"] = 0\n",
        "\n",
        "    # Duplicate code blocks (jscpd)\n",
        "    result = subprocess.run(\n",
        "        [\"jscpd\", \"--format\", \"text\", \"--output\", \"console\", src_path],\n",
        "        capture_output=True,\n",
        "        text=True\n",
        "    )\n",
        "    duplicate_count = len([line for line in result.stdout.split(\"\\n\") if \"duplicates\" in line])\n",
        "    metrics[\"duplicate_blocks\"] = duplicate_count\n",
        "\n",
        "    # External dependencies (pipdeptree)\n",
        "    result = subprocess.run(\n",
        "        [\"pipdeptree\", \"--warn\", \"silence\"],\n",
        "        capture_output=True,\n",
        "        text=True\n",
        "    )\n",
        "    metrics[\"dependencies\"] = len(result.stdout.strip().split(\"\\n\")) - 1  # Exclude header\n",
        "\n",
        "    # Return to the root directory\n",
        "    os.chdir(\"..\")\n",
        "\n",
        "    # Format output as a comma-separated string\n",
        "    output = \",\".join([str(v) for v in metrics.values()])\n",
        "    print(output)\n",
        "\n",
        "# Run the analysis\n",
        "analyze_repo(repo_url)"
      ]
    },
    {
      "cell_type": "markdown",
      "source": [
        "# 🔍 GitHub Repository Code Analyzer\n",
        "\n",
        "**📌 Описание:**\n",
        "Скрипт клонирует репозиторий, анализирует код **только в папке `src`** и выводит ключевые метрики в виде строки.\n",
        "\n",
        "**📊 Метрики:**\n",
        "`cyclomatic_complexity, avg_lines, duplicate_blocks, dependencies`\n",
        "\n",
        "**⚠️ Примечание:**\n",
        "Анализируется только содержимое папки `src` в репозитории, скрипт оптимизирован для Python-проектов."
      ],
      "metadata": {
        "id": "PN0Q74_m1rZD"
      }
    }
  ]
}